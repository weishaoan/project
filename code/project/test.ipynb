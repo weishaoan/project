{
 "cells": [
  {
   "cell_type": "code",
   "execution_count": 2,
   "metadata": {},
   "outputs": [],
   "source": [
    "import cv2\n",
    "import numpy as np"
   ]
  },
  {
   "cell_type": "code",
   "execution_count": 3,
   "metadata": {},
   "outputs": [],
   "source": [
    "# 創建一個 VideoCapture 對象，讀取影片\n",
    "cap = cv2.VideoCapture(\"video/11/27.mp4\")"
   ]
  },
  {
   "cell_type": "code",
   "execution_count": 4,
   "metadata": {},
   "outputs": [],
   "source": [
    "#建立一個背景分割器\n",
    "bg_subtractor = cv2.createBackgroundSubtractorMOG2(detectShadows=False)"
   ]
  },
  {
   "cell_type": "code",
   "execution_count": 5,
   "metadata": {},
   "outputs": [],
   "source": [
    "# 創建一個空列表，用於記錄標記的座標\n",
    "max_length = 5\n",
    "coordinates = []\n",
    "#初始值\n",
    "pause = False"
   ]
  },
  {
   "cell_type": "code",
   "execution_count": 6,
   "metadata": {},
   "outputs": [
    {
     "ename": "",
     "evalue": "",
     "output_type": "error",
     "traceback": [
      "\u001b[1;31mThe Kernel crashed while executing code in the the current cell or a previous cell. Please review the code in the cell(s) to identify a possible cause of the failure. Click <a href='https://aka.ms/vscodeJupyterKernelCrash'>here</a> for more info. View Jupyter <a href='command:jupyter.viewOutput'>log</a> for further details."
     ]
    }
   ],
   "source": [
    "while True:\n",
    "    if not pause:\n",
    "        ret, frame = cap.read()#ret為布林值代表讀取與否 frame為影片偵，通常對frame處理\n",
    "        if not ret:\n",
    "            break\n",
    "        fg_mask = bg_subtractor.apply(frame)\n",
    "        _,thresh = cv2.threshold(fg_mask, 127, 255, 0)\n",
    "        # 對前景掩碼進行後處理，去除小的雜訊\n",
    "        thresh = cv2.erode(thresh, None, iterations=5)\n",
    "        thresh = cv2.dilate(thresh, None, iterations=5)\n",
    "        thresh = cv2.medianBlur(thresh, 5)\n",
    "        \n",
    "        # 尋找前景物體的輪廓\n",
    "        contours, _ = cv2.findContours(thresh, cv2.RETR_EXTERNAL, cv2.CHAIN_APPROX_SIMPLE)\n",
    "        # 繪製檢測到的前景物體\n",
    "        for contour in contours:\n",
    "            area = cv2.contourArea(contour)\n",
    "             # 只繪製足夠大的前景區域\n",
    "            x, y, w, h = cv2.boundingRect(contour)\n",
    "            if float(h)/w > 0.5 and area > 1000:\n",
    "                cv2.rectangle(frame, (x, y), (x + w, y + h), (0, 255, 0), 2)\n",
    "\n",
    "                # 在表中記錄標記的座標\n",
    "                coordinates.append((x + w // 2, y + h // 2))\n",
    "                \n",
    "            if len(coordinates) > max_length:\n",
    "                coordinates.pop(0)  # 移除最舊的座標\n",
    "\n",
    "        # 繪製連結各個時段標記的路徑\n",
    "        for i in range(1, len(coordinates)):\n",
    "            cv2.line(frame, coordinates[i - 1], coordinates[i], (0, 0, 255), 1)\n",
    "\n",
    "\n",
    "        #cv2.imshow(\"Thresh video\", thresh)\n",
    "        #cv2.imshow(\"Forge Background\",fg_mask)\n",
    "        cv2.imshow(\"Original Video\", frame)\n",
    "\n",
    "       \n",
    "        key = cv2.waitKey(1) & 0xFF\n",
    "        \n",
    "    if key  == ord('q'):\n",
    "        break\n",
    "    elif key  == ord('p'):  # 按 'p' 暫停或恢復\n",
    "        while True:\n",
    "            key = cv2.waitKey(1) \n",
    "            if key == ord('p') or key == ord('q'):\n",
    "                break\n",
    "    if key == ord('q'):\n",
    "        break\n",
    "\n",
    "\n",
    "cap.release()\n",
    "cv2.destroyAllWindows()"
   ]
  }
 ],
 "metadata": {
  "kernelspec": {
   "display_name": "Python 3",
   "language": "python",
   "name": "python3"
  },
  "language_info": {
   "codemirror_mode": {
    "name": "ipython",
    "version": 3
   },
   "file_extension": ".py",
   "mimetype": "text/x-python",
   "name": "python",
   "nbconvert_exporter": "python",
   "pygments_lexer": "ipython3",
   "version": "3.10.4"
  }
 },
 "nbformat": 4,
 "nbformat_minor": 2
}
